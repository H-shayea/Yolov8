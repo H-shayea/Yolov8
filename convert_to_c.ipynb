{
 "cells": [
  {
   "cell_type": "code",
   "execution_count": 11,
   "id": "c90c4f0a",
   "metadata": {},
   "outputs": [
    {
     "name": "stdout",
     "output_type": "stream",
     "text": [
      "Ultralytics 8.3.203 🚀 Python-3.9.23 torch-2.8.0+cpu CPU (Intel Core i7-10700F 2.90GHz)\n",
      "YOLOv8n summary (fused): 72 layers, 3,151,904 parameters, 0 gradients, 8.7 GFLOPs\n",
      "YOLOv8n summary (fused): 72 layers, 3,151,904 parameters, 0 gradients, 8.7 GFLOPs\n",
      "\n",
      "\u001b[34m\u001b[1mPyTorch:\u001b[0m starting from 'yolov8n.pt' with input shape (1, 3, 640, 640) BCHW and output shape(s) (1, 84, 8400) (6.2 MB)\n",
      "\n",
      "\u001b[34m\u001b[1mPyTorch:\u001b[0m starting from 'yolov8n.pt' with input shape (1, 3, 640, 640) BCHW and output shape(s) (1, 84, 8400) (6.2 MB)\n",
      "\n",
      "\u001b[34m\u001b[1mONNX:\u001b[0m starting export with onnx 1.19.0 opset 17...\n",
      "\n",
      "\u001b[34m\u001b[1mONNX:\u001b[0m starting export with onnx 1.19.0 opset 17...\n",
      "\u001b[34m\u001b[1mONNX:\u001b[0m slimming with onnxslim 0.1.69...\n",
      "\u001b[34m\u001b[1mONNX:\u001b[0m slimming with onnxslim 0.1.69...\n",
      "\u001b[34m\u001b[1mONNX:\u001b[0m export success ✅ 0.6s, saved as 'yolov8n.onnx' (12.3 MB)\n",
      "\n",
      "Export complete (0.9s)\n",
      "Results saved to \u001b[1m/home/hassan/Yolov8\u001b[0m\n",
      "Predict:         yolo predict task=detect model=yolov8n.onnx imgsz=640  \n",
      "Validate:        yolo val task=detect model=yolov8n.onnx imgsz=640 data=coco.yaml  \n",
      "Visualize:       https://netron.app\n",
      "Optimized model converted to ONNX successfully!\n",
      "\u001b[34m\u001b[1mONNX:\u001b[0m export success ✅ 0.6s, saved as 'yolov8n.onnx' (12.3 MB)\n",
      "\n",
      "Export complete (0.9s)\n",
      "Results saved to \u001b[1m/home/hassan/Yolov8\u001b[0m\n",
      "Predict:         yolo predict task=detect model=yolov8n.onnx imgsz=640  \n",
      "Validate:        yolo val task=detect model=yolov8n.onnx imgsz=640 data=coco.yaml  \n",
      "Visualize:       https://netron.app\n",
      "Optimized model converted to ONNX successfully!\n"
     ]
    }
   ],
   "source": [
    "# Convert YOLOv8 to ONNX with optimizations\n",
    "from ultralytics import YOLO\n",
    "\n",
    "# Load model and export to ONNX with optimizations\n",
    "model = YOLO('yolov8n.pt')\n",
    "model.export(\n",
    "    format='onnx', \n",
    "    opset=17,\n",
    "    optimize=True,    # Enable ONNX optimizations\n",
    "    dynamic=False,    # Static input shapes for better performance\n",
    "    simplify=True     # Simplify the model graph\n",
    ")\n",
    "print(\"Optimized model converted to ONNX successfully!\")"
   ]
  },
  {
   "cell_type": "code",
   "execution_count": 17,
   "id": "98c6ac98",
   "metadata": {},
   "outputs": [
    {
     "name": "stdout",
     "output_type": "stream",
     "text": [
      "Model IR version: 8\n",
      "Producer: pytorch\n",
      "Graph name: main_graph\n",
      "Number of nodes: 233\n",
      "Input: images\n",
      "Output: output0\n",
      "\n",
      "Starting Netron visualization...\n",
      "Netron server started! Check your browser for the visualization.\n",
      "Netron server started! Check your browser for the visualization.\n"
     ]
    },
    {
     "name": "stderr",
     "output_type": "stream",
     "text": [
      "/usr/bin/x-www-browser: 12: xdg-settings: not found\n",
      "2025/09/29 16:23:20.496907 cmd_run.go:1412: WARNING: cannot start document portal: dial unix /run/user/1000/bus: connect: no such file or directory\n",
      "2025/09/29 16:23:20.496907 cmd_run.go:1412: WARNING: cannot start document portal: dial unix /run/user/1000/bus: connect: no such file or directory\n",
      "touch: cannot touch '/home/hassan/snap/firefox/common/.cache/desktop-runtime-date': No such file or directory\n",
      "touch: cannot touch '/home/hassan/snap/firefox/common/.cache/desktop-runtime-date': No such file or directory\n",
      "[151303, Main Thread] WARNING: Settings portal not found: Could not connect: No such file or directory: 'glib warning', file /build/firefox/parts/firefox/build/toolkit/xre/nsSigHandlers.cpp:201\n",
      "\n",
      "(firefox_firefox:151303): Gdk-WARNING **: 16:23:22.384: Settings portal not found: Could not connect: No such file or directory\n",
      "[151303, Main Thread] WARNING: Settings portal not found: Could not connect: No such file or directory: 'glib warning', file /build/firefox/parts/firefox/build/toolkit/xre/nsSigHandlers.cpp:201\n",
      "\n",
      "(firefox_firefox:151303): Gdk-WARNING **: 16:23:22.384: Settings portal not found: Could not connect: No such file or directory\n",
      "[Parent 151303, Main Thread] WARNING: Failed to mkdir /home/hassan/snap/firefox/6836/.config/ibus/bus: Not a directory: 'glib warning', file /build/firefox/parts/firefox/build/toolkit/xre/nsSigHandlers.cpp:201\n",
      "\n",
      "(firefox_firefox:151303): IBUS-WARNING **: 16:23:23.024: Failed to mkdir /home/hassan/snap/firefox/6836/.config/ibus/bus: Not a directory\n",
      "[Parent 151303, Main Thread] WARNING: Failed to mkdir /home/hassan/snap/firefox/6836/.config/ibus/bus: Not a directory: 'glib warning', file /build/firefox/parts/firefox/build/toolkit/xre/nsSigHandlers.cpp:201\n",
      "\n",
      "(firefox_firefox:151303): IBUS-WARNING **: 16:23:23.024: Failed to mkdir /home/hassan/snap/firefox/6836/.config/ibus/bus: Not a directory\n",
      "[Parent 151303, Main Thread] WARNING: Failed to create DBus proxy for org.a11y.Bus: Could not connect: No such file or directory\n",
      ": 'glib warning', file /build/firefox/parts/firefox/build/toolkit/xre/nsSigHandlers.cpp:201\n",
      "\n",
      "** (firefox_firefox:151303): WARNING **: 16:23:24.171: Failed to create DBus proxy for org.a11y.Bus: Could not connect: No such file or directory\n",
      "\n",
      "[Parent 151303, Main Thread] WARNING: Failed to create DBus proxy for org.a11y.Bus: Could not connect: No such file or directory\n",
      ": 'glib warning', file /build/firefox/parts/firefox/build/toolkit/xre/nsSigHandlers.cpp:201\n",
      "\n",
      "** (firefox_firefox:151303): WARNING **: 16:23:24.171: Failed to create DBus proxy for org.a11y.Bus: Could not connect: No such file or directory\n",
      "\n"
     ]
    }
   ],
   "source": [
    "# Visualize ONNX model graph\n",
    "import onnx\n",
    "import netron\n",
    "import os\n",
    "\n",
    "# Load and display the ONNX model graph\n",
    "onnx_path = 'yolov8n.onnx'\n",
    "if os.path.exists(onnx_path):\n",
    "    try:\n",
    "        # Load ONNX model\n",
    "        onnx_model = onnx.load(onnx_path)\n",
    "        \n",
    "        # Print model info\n",
    "        print(f\"Model IR version: {onnx_model.ir_version}\")\n",
    "        print(f\"Producer: {onnx_model.producer_name}\")\n",
    "        print(f\"Graph name: {onnx_model.graph.name}\")\n",
    "        print(f\"Number of nodes: {len(onnx_model.graph.node)}\")\n",
    "        \n",
    "        # Print input/output info\n",
    "        for input_tensor in onnx_model.graph.input:\n",
    "            print(f\"Input: {input_tensor.name}\")\n",
    "        for output_tensor in onnx_model.graph.output:\n",
    "            print(f\"Output: {output_tensor.name}\")\n",
    "        \n",
    "        # Start netron visualization (simplified)\n",
    "        print(f\"\\nStarting Netron visualization...\")\n",
    "        netron.start(onnx_path)\n",
    "        print(f\"Netron server started! Check your browser for the visualization.\")\n",
    "        \n",
    "    except Exception as e:\n",
    "        print(f\"Error with Netron: {e}\")\n",
    "        print(\"You can manually view the model by running: netron yolov8n.onnx\")\n",
    "else:\n",
    "    print(f\"ONNX file not found: {onnx_path}\")\n",
    "    print(\"Please run the first cell to create the ONNX model first!\")"
   ]
  },
  {
   "cell_type": "code",
   "execution_count": 15,
   "id": "4aab7257",
   "metadata": {},
   "outputs": [
    {
     "name": "stderr",
     "output_type": "stream",
     "text": [
      "WARNING:root:Please consider to run pre-processing before quantization. Refer to example: https://github.com/microsoft/onnxruntime-inference-examples/blob/main/quantization/image_classification/cpu/ReadMe.md \n"
     ]
    },
    {
     "name": "stdout",
     "output_type": "stream",
     "text": [
      "Original model size: 12.26 MB\n",
      "Quantized model size: 3.34 MB\n",
      "Size reduction: 72.7%\n"
     ]
    }
   ],
   "source": [
    "# Proper ONNX Model Quantization\n",
    "from onnxruntime.quantization import quantize_dynamic, QuantType\n",
    "import onnx\n",
    "import os\n",
    "\n",
    "# First convert to ONNX (float32), then quantize\n",
    "onnx_path = 'yolov8n.onnx'\n",
    "quantized_path = 'yolov8n_quantized.onnx'\n",
    "\n",
    "if os.path.exists(onnx_path):\n",
    "    # Dynamic quantization to INT8\n",
    "    quantize_dynamic(\n",
    "        model_input=onnx_path,\n",
    "        model_output=quantized_path,\n",
    "        weight_type=QuantType.QUInt8  # Quantize weights to 8-bit\n",
    "    )\n",
    "    \n",
    "    # Compare model sizes\n",
    "    original_size = os.path.getsize(onnx_path) / (1024*1024)  # MB\n",
    "    quantized_size = os.path.getsize(quantized_path) / (1024*1024)  # MB\n",
    "    \n",
    "    print(f\"Original model size: {original_size:.2f} MB\")\n",
    "    print(f\"Quantized model size: {quantized_size:.2f} MB\")\n",
    "    print(f\"Size reduction: {((original_size - quantized_size) / original_size * 100):.1f}%\")\n",
    "else:\n",
    "    print(\"Please run the first cell to create the ONNX model first!\")"
   ]
  }
 ],
 "metadata": {
  "kernelspec": {
   "display_name": "yolov8",
   "language": "python",
   "name": "python3"
  },
  "language_info": {
   "codemirror_mode": {
    "name": "ipython",
    "version": 3
   },
   "file_extension": ".py",
   "mimetype": "text/x-python",
   "name": "python",
   "nbconvert_exporter": "python",
   "pygments_lexer": "ipython3",
   "version": "3.9.23"
  }
 },
 "nbformat": 4,
 "nbformat_minor": 5
}
